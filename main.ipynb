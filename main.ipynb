{
 "cells": [
  {
   "cell_type": "code",
   "execution_count": null,
   "metadata": {
    "vscode": {
     "languageId": "javascript"
    }
   },
   "outputs": [],
   "source": [
    "let date = new Date();\n",
    "let string = date.toISOString();\n",
    "console.log(string.substring(0,10));\n",
    "console.log(\"Try programiz.pro\");\n",
    "\n",
    "// 获取当前日期\n",
    "var today = new Date();\n",
    "\n",
    "// 设置30天前的日期\n",
    "var thirtyDaysAgo = new Date();\n",
    "thirtyDaysAgo.setDate(thirtyDaysAgo.getDate() - 30);\n",
    "\n",
    "// 输出30天前的日期\n",
    "console.log(thirtyDaysAgo);"
   ]
  }
 ],
 "metadata": {
  "language_info": {
   "name": "python"
  }
 },
 "nbformat": 4,
 "nbformat_minor": 2
}
